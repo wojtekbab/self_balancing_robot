{
 "cells": [
  {
   "cell_type": "markdown",
   "metadata": {},
   "source": [
    "### Mathematical model calculation with symbolic equations "
   ]
  },
  {
   "cell_type": "code",
   "execution_count": 1,
   "metadata": {},
   "outputs": [],
   "source": [
    "import sympy as sp\n",
    "import numpy as np\n",
    "import os\n",
    "import pickle\n",
    "\n",
    "from parameters import dict_with_params\n",
    "\n",
    "t = sp.symbols(\"t\", real=True)\n",
    "\n",
    "######################################### basic state variable definitions\n",
    "theta_v_y = sp.Function(\"theta_v_y\")(t)\n",
    "D_theta_v_y = sp.diff(theta_v_y, t)\n",
    "\n",
    "psi_v_z = sp.Function(\"psi_v_z\")(t)\n",
    "D_psi_v_z = sp.diff(psi_v_z, t)\n",
    "\n",
    "x_v = sp.Function(\"x_v\")(t)\n",
    "v_v_x = sp.diff(x_v, t)\n",
    "\n",
    "######################################## basic parameters/expressions definitions\n",
    "r, D, L = sp.symbols(\"r D L\", positive=True)\n",
    "J_v_x, J_v_y, J_v_z, m_v = sp.symbols(\"J_v_x J_v_y J_v_z m_v\", positive=True)\n",
    "J_w_xz, J_w_y, m_w = sp.symbols(\"J_w_xz J_w_y m_w\", positive=True)\n",
    "g = sp.symbols(\"g\", positive=True)\n",
    "T_theta, T_psi = sp.symbols(\"T_theta T_psi\", cls=sp.Function)\n",
    "\n",
    "T_L = (T_theta(t) - T_psi(t)) / 2\n",
    "T_R = (T_theta(t) + T_psi(t)) / 2\n",
    "\n",
    "v_cog_x = v_v_x + L * D_theta_v_y * sp.cos(theta_v_y)\n",
    "v_cog_y = L * D_psi_v_z * sp.sin(theta_v_y)\n",
    "v_cog_z = -L * D_theta_v_y * sp.sin(theta_v_y)\n",
    "\n",
    "v_R_x = v_v_x + D / 2 * D_psi_v_z\n",
    "v_L_x = v_v_x - D / 2 * D_psi_v_z\n",
    "\n",
    "theta_wR_y = x_v / r + psi_v_z * D / 2 / r\n",
    "theta_wL_y = x_v / r - psi_v_z * D / 2 / r\n",
    "\n",
    "omega_R_y = v_R_x / r\n",
    "omega_L_y = v_L_x / r\n",
    "\n",
    "E_ws_kinetic_translational = 1 / 2 * m_w * v_R_x**2 + 1 / 2 * m_w * v_L_x**2\n",
    "\n",
    "E_ws_kinetic_rotational = (\n",
    "    1 / 2 * J_w_xz * D_psi_v_z**2\n",
    "    + 1 / 2 * J_w_y * omega_R_y**2\n",
    "    + 1 / 2 * J_w_xz * D_psi_v_z**2\n",
    "    + 1 / 2 * J_w_y * omega_L_y**2\n",
    ")\n",
    "\n",
    "E_vehicle_kinetic_translational = (\n",
    "    1 / 2 * m_v * v_cog_x**2 + 1 / 2 * m_v * v_cog_y**2 + 1 / 2 * m_v * v_cog_z**2\n",
    ")\n",
    "\n",
    "E_vehicle_kinetic_rotational = (\n",
    "    1 / 2 * J_v_x * (-D_psi_v_z * sp.sin(theta_v_y)) ** 2\n",
    "    + 1 / 2 * J_v_y * D_theta_v_y**2\n",
    "    + 1 / 2 * J_v_z * (D_psi_v_z * sp.cos(theta_v_y)) ** 2\n",
    ")\n",
    "\n",
    "E_vehicle_potential = m_v * g * L * sp.cos(theta_v_y)\n",
    "\n",
    "E_servomechanisms_potential = -T_R * (theta_wR_y - theta_v_y) - T_L * (\n",
    "    theta_wL_y - theta_v_y\n",
    ")\n",
    "\n",
    "lagrangian = (\n",
    "    E_ws_kinetic_translational\n",
    "    + E_ws_kinetic_rotational\n",
    "    + E_vehicle_kinetic_translational\n",
    "    + E_vehicle_kinetic_rotational\n",
    "    - E_vehicle_potential\n",
    "    - E_servomechanisms_potential\n",
    ")\n",
    "\n",
    "lagrangian = sp.simplify(lagrangian)\n"
   ]
  },
  {
   "cell_type": "code",
   "execution_count": 2,
   "metadata": {},
   "outputs": [
    {
     "name": "stdout",
     "output_type": "stream",
     "text": [
      "Key: D2_psi_v_z_t, Value: D*T_psi_t*r/(D**2*J_w_y + D**2*m_w*r**2 + 2.0*J_v_x*r**2*sin(theta_v_y_t)**2 - 2.0*J_v_z*r**2*sin(theta_v_y_t)**2 + 2.0*J_v_z*r**2 + 4.0*J_w_xz*r**2 + 2.0*L**2*m_v*r**2*sin(theta_v_y_t)**2) - 2.0*D_psi_v_z_t*D_theta_v_y_t*J_v_x*r**2*sin(2.0*theta_v_y_t)/(D**2*J_w_y + D**2*m_w*r**2 + 2.0*J_v_x*r**2*sin(theta_v_y_t)**2 - 2.0*J_v_z*r**2*sin(theta_v_y_t)**2 + 2.0*J_v_z*r**2 + 4.0*J_w_xz*r**2 + 2.0*L**2*m_v*r**2*sin(theta_v_y_t)**2) + 2.0*D_psi_v_z_t*D_theta_v_y_t*J_v_z*r**2*sin(2.0*theta_v_y_t)/(D**2*J_w_y + D**2*m_w*r**2 + 2.0*J_v_x*r**2*sin(theta_v_y_t)**2 - 2.0*J_v_z*r**2*sin(theta_v_y_t)**2 + 2.0*J_v_z*r**2 + 4.0*J_w_xz*r**2 + 2.0*L**2*m_v*r**2*sin(theta_v_y_t)**2) - 2.0*D_psi_v_z_t*D_theta_v_y_t*L**2*m_v*r**2*sin(2.0*theta_v_y_t)/(D**2*J_w_y + D**2*m_w*r**2 + 2.0*J_v_x*r**2*sin(theta_v_y_t)**2 - 2.0*J_v_z*r**2*sin(theta_v_y_t)**2 + 2.0*J_v_z*r**2 + 4.0*J_w_xz*r**2 + 2.0*L**2*m_v*r**2*sin(theta_v_y_t)**2)\n",
      "Key: D2_theta_v_y_t, Value: 2.0*D_psi_v_z_t**2*J_v_x*J_w_y*sin(2.0*theta_v_y_t)/(4.0*J_v_y*J_w_y + 2.0*J_v_y*m_v*r**2 + 4.0*J_v_y*m_w*r**2 + 4.0*J_w_y*L**2*m_v - 2.0*L**2*m_v**2*r**2*cos(theta_v_y_t)**2 + 2.0*L**2*m_v**2*r**2 + 4.0*L**2*m_v*m_w*r**2) + D_psi_v_z_t**2*J_v_x*m_v*r**2*sin(2.0*theta_v_y_t)/(4.0*J_v_y*J_w_y + 2.0*J_v_y*m_v*r**2 + 4.0*J_v_y*m_w*r**2 + 4.0*J_w_y*L**2*m_v - 2.0*L**2*m_v**2*r**2*cos(theta_v_y_t)**2 + 2.0*L**2*m_v**2*r**2 + 4.0*L**2*m_v*m_w*r**2) + 2.0*D_psi_v_z_t**2*J_v_x*m_w*r**2*sin(2.0*theta_v_y_t)/(4.0*J_v_y*J_w_y + 2.0*J_v_y*m_v*r**2 + 4.0*J_v_y*m_w*r**2 + 4.0*J_w_y*L**2*m_v - 2.0*L**2*m_v**2*r**2*cos(theta_v_y_t)**2 + 2.0*L**2*m_v**2*r**2 + 4.0*L**2*m_v*m_w*r**2) - 2.0*D_psi_v_z_t**2*J_v_z*J_w_y*sin(2.0*theta_v_y_t)/(4.0*J_v_y*J_w_y + 2.0*J_v_y*m_v*r**2 + 4.0*J_v_y*m_w*r**2 + 4.0*J_w_y*L**2*m_v - 2.0*L**2*m_v**2*r**2*cos(theta_v_y_t)**2 + 2.0*L**2*m_v**2*r**2 + 4.0*L**2*m_v*m_w*r**2) - D_psi_v_z_t**2*J_v_z*m_v*r**2*sin(2.0*theta_v_y_t)/(4.0*J_v_y*J_w_y + 2.0*J_v_y*m_v*r**2 + 4.0*J_v_y*m_w*r**2 + 4.0*J_w_y*L**2*m_v - 2.0*L**2*m_v**2*r**2*cos(theta_v_y_t)**2 + 2.0*L**2*m_v**2*r**2 + 4.0*L**2*m_v*m_w*r**2) - 2.0*D_psi_v_z_t**2*J_v_z*m_w*r**2*sin(2.0*theta_v_y_t)/(4.0*J_v_y*J_w_y + 2.0*J_v_y*m_v*r**2 + 4.0*J_v_y*m_w*r**2 + 4.0*J_w_y*L**2*m_v - 2.0*L**2*m_v**2*r**2*cos(theta_v_y_t)**2 + 2.0*L**2*m_v**2*r**2 + 4.0*L**2*m_v*m_w*r**2) + 2.0*D_psi_v_z_t**2*J_w_y*L**2*m_v*sin(2.0*theta_v_y_t)/(4.0*J_v_y*J_w_y + 2.0*J_v_y*m_v*r**2 + 4.0*J_v_y*m_w*r**2 + 4.0*J_w_y*L**2*m_v - 2.0*L**2*m_v**2*r**2*cos(theta_v_y_t)**2 + 2.0*L**2*m_v**2*r**2 + 4.0*L**2*m_v*m_w*r**2) + D_psi_v_z_t**2*L**2*m_v**2*r**2*sin(2.0*theta_v_y_t)/(4.0*J_v_y*J_w_y + 2.0*J_v_y*m_v*r**2 + 4.0*J_v_y*m_w*r**2 + 4.0*J_w_y*L**2*m_v - 2.0*L**2*m_v**2*r**2*cos(theta_v_y_t)**2 + 2.0*L**2*m_v**2*r**2 + 4.0*L**2*m_v*m_w*r**2) + 2.0*D_psi_v_z_t**2*L**2*m_v*m_w*r**2*sin(2.0*theta_v_y_t)/(4.0*J_v_y*J_w_y + 2.0*J_v_y*m_v*r**2 + 4.0*J_v_y*m_w*r**2 + 4.0*J_w_y*L**2*m_v - 2.0*L**2*m_v**2*r**2*cos(theta_v_y_t)**2 + 2.0*L**2*m_v**2*r**2 + 4.0*L**2*m_v*m_w*r**2) - 2.0*D_theta_v_y_t**2*L**2*m_v**2*r**2*sin(theta_v_y_t)*cos(theta_v_y_t)/(4.0*J_v_y*J_w_y + 2.0*J_v_y*m_v*r**2 + 4.0*J_v_y*m_w*r**2 + 4.0*J_w_y*L**2*m_v - 2.0*L**2*m_v**2*r**2*cos(theta_v_y_t)**2 + 2.0*L**2*m_v**2*r**2 + 4.0*L**2*m_v*m_w*r**2) + 4.0*J_w_y*L*g*m_v*sin(theta_v_y_t)/(4.0*J_v_y*J_w_y + 2.0*J_v_y*m_v*r**2 + 4.0*J_v_y*m_w*r**2 + 4.0*J_w_y*L**2*m_v - 2.0*L**2*m_v**2*r**2*cos(theta_v_y_t)**2 + 2.0*L**2*m_v**2*r**2 + 4.0*L**2*m_v*m_w*r**2) - 4.0*J_w_y*T_theta_t/(4.0*J_v_y*J_w_y + 2.0*J_v_y*m_v*r**2 + 4.0*J_v_y*m_w*r**2 + 4.0*J_w_y*L**2*m_v - 2.0*L**2*m_v**2*r**2*cos(theta_v_y_t)**2 + 2.0*L**2*m_v**2*r**2 + 4.0*L**2*m_v*m_w*r**2) - 2.0*L*T_theta_t*m_v*r*cos(theta_v_y_t)/(4.0*J_v_y*J_w_y + 2.0*J_v_y*m_v*r**2 + 4.0*J_v_y*m_w*r**2 + 4.0*J_w_y*L**2*m_v - 2.0*L**2*m_v**2*r**2*cos(theta_v_y_t)**2 + 2.0*L**2*m_v**2*r**2 + 4.0*L**2*m_v*m_w*r**2) + 2.0*L*g*m_v**2*r**2*sin(theta_v_y_t)/(4.0*J_v_y*J_w_y + 2.0*J_v_y*m_v*r**2 + 4.0*J_v_y*m_w*r**2 + 4.0*J_w_y*L**2*m_v - 2.0*L**2*m_v**2*r**2*cos(theta_v_y_t)**2 + 2.0*L**2*m_v**2*r**2 + 4.0*L**2*m_v*m_w*r**2) + 4.0*L*g*m_v*m_w*r**2*sin(theta_v_y_t)/(4.0*J_v_y*J_w_y + 2.0*J_v_y*m_v*r**2 + 4.0*J_v_y*m_w*r**2 + 4.0*J_w_y*L**2*m_v - 2.0*L**2*m_v**2*r**2*cos(theta_v_y_t)**2 + 2.0*L**2*m_v**2*r**2 + 4.0*L**2*m_v*m_w*r**2) - 2.0*T_theta_t*m_v*r**2/(4.0*J_v_y*J_w_y + 2.0*J_v_y*m_v*r**2 + 4.0*J_v_y*m_w*r**2 + 4.0*J_w_y*L**2*m_v - 2.0*L**2*m_v**2*r**2*cos(theta_v_y_t)**2 + 2.0*L**2*m_v**2*r**2 + 4.0*L**2*m_v*m_w*r**2) - 4.0*T_theta_t*m_w*r**2/(4.0*J_v_y*J_w_y + 2.0*J_v_y*m_v*r**2 + 4.0*J_v_y*m_w*r**2 + 4.0*J_w_y*L**2*m_v - 2.0*L**2*m_v**2*r**2*cos(theta_v_y_t)**2 + 2.0*L**2*m_v**2*r**2 + 4.0*L**2*m_v*m_w*r**2)\n",
      "Key: D_v_v_x_t, Value: -D_psi_v_z_t**2*J_v_x*L*m_v*r**2*sin(2.0*theta_v_y_t)*cos(theta_v_y_t)/(4.0*J_v_y*J_w_y + 2.0*J_v_y*m_v*r**2 + 4.0*J_v_y*m_w*r**2 + 4.0*J_w_y*L**2*m_v - 2.0*L**2*m_v**2*r**2*cos(theta_v_y_t)**2 + 2.0*L**2*m_v**2*r**2 + 4.0*L**2*m_v*m_w*r**2) + D_psi_v_z_t**2*J_v_z*L*m_v*r**2*sin(2.0*theta_v_y_t)*cos(theta_v_y_t)/(4.0*J_v_y*J_w_y + 2.0*J_v_y*m_v*r**2 + 4.0*J_v_y*m_w*r**2 + 4.0*J_w_y*L**2*m_v - 2.0*L**2*m_v**2*r**2*cos(theta_v_y_t)**2 + 2.0*L**2*m_v**2*r**2 + 4.0*L**2*m_v*m_w*r**2) - D_psi_v_z_t**2*L**3*m_v**2*r**2*sin(2.0*theta_v_y_t)*cos(theta_v_y_t)/(4.0*J_v_y*J_w_y + 2.0*J_v_y*m_v*r**2 + 4.0*J_v_y*m_w*r**2 + 4.0*J_w_y*L**2*m_v - 2.0*L**2*m_v**2*r**2*cos(theta_v_y_t)**2 + 2.0*L**2*m_v**2*r**2 + 4.0*L**2*m_v*m_w*r**2) + 2.0*D_theta_v_y_t**2*J_v_y*L*m_v*r**2*sin(theta_v_y_t)/(4.0*J_v_y*J_w_y + 2.0*J_v_y*m_v*r**2 + 4.0*J_v_y*m_w*r**2 + 4.0*J_w_y*L**2*m_v - 2.0*L**2*m_v**2*r**2*cos(theta_v_y_t)**2 + 2.0*L**2*m_v**2*r**2 + 4.0*L**2*m_v*m_w*r**2) + 2.0*D_theta_v_y_t**2*L**3*m_v**2*r**2*sin(theta_v_y_t)/(4.0*J_v_y*J_w_y + 2.0*J_v_y*m_v*r**2 + 4.0*J_v_y*m_w*r**2 + 4.0*J_w_y*L**2*m_v - 2.0*L**2*m_v**2*r**2*cos(theta_v_y_t)**2 + 2.0*L**2*m_v**2*r**2 + 4.0*L**2*m_v*m_w*r**2) + 2.0*J_v_y*T_theta_t*r/(4.0*J_v_y*J_w_y + 2.0*J_v_y*m_v*r**2 + 4.0*J_v_y*m_w*r**2 + 4.0*J_w_y*L**2*m_v - 2.0*L**2*m_v**2*r**2*cos(theta_v_y_t)**2 + 2.0*L**2*m_v**2*r**2 + 4.0*L**2*m_v*m_w*r**2) + 2.0*L**2*T_theta_t*m_v*r/(4.0*J_v_y*J_w_y + 2.0*J_v_y*m_v*r**2 + 4.0*J_v_y*m_w*r**2 + 4.0*J_w_y*L**2*m_v - 2.0*L**2*m_v**2*r**2*cos(theta_v_y_t)**2 + 2.0*L**2*m_v**2*r**2 + 4.0*L**2*m_v*m_w*r**2) - 2.0*L**2*g*m_v**2*r**2*sin(theta_v_y_t)*cos(theta_v_y_t)/(4.0*J_v_y*J_w_y + 2.0*J_v_y*m_v*r**2 + 4.0*J_v_y*m_w*r**2 + 4.0*J_w_y*L**2*m_v - 2.0*L**2*m_v**2*r**2*cos(theta_v_y_t)**2 + 2.0*L**2*m_v**2*r**2 + 4.0*L**2*m_v*m_w*r**2) + 2.0*L*T_theta_t*m_v*r**2*cos(theta_v_y_t)/(4.0*J_v_y*J_w_y + 2.0*J_v_y*m_v*r**2 + 4.0*J_v_y*m_w*r**2 + 4.0*J_w_y*L**2*m_v - 2.0*L**2*m_v**2*r**2*cos(theta_v_y_t)**2 + 2.0*L**2*m_v**2*r**2 + 4.0*L**2*m_v*m_w*r**2)\n"
     ]
    }
   ],
   "source": [
    "\n",
    "E1 = sp.Eq(sp.diff(sp.diff(lagrangian, v_v_x), t) - sp.diff(lagrangian, x_v), 0)\n",
    "E2 = sp.Eq(\n",
    "    sp.diff(sp.diff(lagrangian, D_theta_v_y), t) - sp.diff(lagrangian, theta_v_y), 0\n",
    ")\n",
    "E3 = sp.Eq(sp.diff(sp.diff(lagrangian, D_psi_v_z), t) - sp.diff(lagrangian, psi_v_z), 0)\n",
    "\n",
    "D2_psi_v_z_t, D_psi_v_z_t, psi_v_z_t = sp.symbols(\n",
    "    \"D2_psi_v_z_t D_psi_v_z_t psi_v_z_t\", real=True\n",
    ")\n",
    "D2_theta_v_y_t, D_theta_v_y_t, theta_v_y_t = sp.symbols(\n",
    "    \"D2_theta_v_y_t D_theta_v_y_t theta_v_y_t\", real=True\n",
    ")\n",
    "D_v_v_x_t, v_v_x_t, x_v_t = sp.symbols(\"D_v_v_x_t v_v_x_t x_v_t\", real=True)\n",
    "T_theta_t, T_psi_t = sp.symbols(\"T_theta_t T_psi_t\", real=True)\n",
    "\n",
    "subs_dict = {\n",
    "    x_v: x_v_t,\n",
    "    v_v_x: v_v_x_t,\n",
    "    sp.diff(v_v_x, t): D_v_v_x_t,\n",
    "    theta_v_y: theta_v_y_t,\n",
    "    sp.diff(theta_v_y, t): D_theta_v_y_t,\n",
    "    sp.diff(theta_v_y, t, t): D2_theta_v_y_t,\n",
    "    psi_v_z: psi_v_z_t,\n",
    "    sp.diff(psi_v_z, t): D_psi_v_z_t,\n",
    "    sp.diff(psi_v_z, t, t): D2_psi_v_z_t,\n",
    "    T_theta(t): T_theta_t,\n",
    "    T_psi(t): T_psi_t,\n",
    "}\n",
    "\n",
    "E1 = E1.subs(subs_dict)\n",
    "E2 = E2.subs(subs_dict)\n",
    "E3 = E3.subs(subs_dict)\n",
    "\n",
    "E1 = sp.simplify(E1)\n",
    "E2 = sp.simplify(E2)\n",
    "E3 = sp.simplify(E3)\n",
    "\n",
    "solution = sp.solve([E1, E2, E3], [D_v_v_x_t, D2_theta_v_y_t, D2_psi_v_z_t])\n",
    "\n",
    "for key, value in solution.items():\n",
    "    print(f\"Key: {key}, Value: {value}\")\n",
    "\n",
    "D_v_v_x_f = solution[D_v_v_x_t]\n",
    "D2_theta_v_y_f = solution[D2_theta_v_y_t]\n",
    "D2_psi_v_z_f = solution[D2_psi_v_z_t]\n"
   ]
  },
  {
   "cell_type": "code",
   "execution_count": 4,
   "metadata": {},
   "outputs": [
    {
     "name": "stdout",
     "output_type": "stream",
     "text": [
      "Nonlinear model dx/dt=f(x,u,p) : \n"
     ]
    },
    {
     "data": {
      "text/latex": [
       "$\\displaystyle \\left[\\begin{matrix}v_{v x t}\\\\- \\frac{D_{\\psi v z t}^{2} J_{v x} L m_{v} r^{2} \\sin{\\left(2.0 \\theta_{v y t} \\right)} \\cos{\\left(\\theta_{v y t} \\right)}}{4.0 J_{v y} J_{w y} + 2.0 J_{v y} m_{v} r^{2} + 4.0 J_{v y} m_{w} r^{2} + 4.0 J_{w y} L^{2} m_{v} - 2.0 L^{2} m_{v}^{2} r^{2} \\cos^{2}{\\left(\\theta_{v y t} \\right)} + 2.0 L^{2} m_{v}^{2} r^{2} + 4.0 L^{2} m_{v} m_{w} r^{2}} + \\frac{D_{\\psi v z t}^{2} J_{v z} L m_{v} r^{2} \\sin{\\left(2.0 \\theta_{v y t} \\right)} \\cos{\\left(\\theta_{v y t} \\right)}}{4.0 J_{v y} J_{w y} + 2.0 J_{v y} m_{v} r^{2} + 4.0 J_{v y} m_{w} r^{2} + 4.0 J_{w y} L^{2} m_{v} - 2.0 L^{2} m_{v}^{2} r^{2} \\cos^{2}{\\left(\\theta_{v y t} \\right)} + 2.0 L^{2} m_{v}^{2} r^{2} + 4.0 L^{2} m_{v} m_{w} r^{2}} - \\frac{D_{\\psi v z t}^{2} L^{3} m_{v}^{2} r^{2} \\sin{\\left(2.0 \\theta_{v y t} \\right)} \\cos{\\left(\\theta_{v y t} \\right)}}{4.0 J_{v y} J_{w y} + 2.0 J_{v y} m_{v} r^{2} + 4.0 J_{v y} m_{w} r^{2} + 4.0 J_{w y} L^{2} m_{v} - 2.0 L^{2} m_{v}^{2} r^{2} \\cos^{2}{\\left(\\theta_{v y t} \\right)} + 2.0 L^{2} m_{v}^{2} r^{2} + 4.0 L^{2} m_{v} m_{w} r^{2}} + \\frac{2.0 D_{\\theta v y t}^{2} J_{v y} L m_{v} r^{2} \\sin{\\left(\\theta_{v y t} \\right)}}{4.0 J_{v y} J_{w y} + 2.0 J_{v y} m_{v} r^{2} + 4.0 J_{v y} m_{w} r^{2} + 4.0 J_{w y} L^{2} m_{v} - 2.0 L^{2} m_{v}^{2} r^{2} \\cos^{2}{\\left(\\theta_{v y t} \\right)} + 2.0 L^{2} m_{v}^{2} r^{2} + 4.0 L^{2} m_{v} m_{w} r^{2}} + \\frac{2.0 D_{\\theta v y t}^{2} L^{3} m_{v}^{2} r^{2} \\sin{\\left(\\theta_{v y t} \\right)}}{4.0 J_{v y} J_{w y} + 2.0 J_{v y} m_{v} r^{2} + 4.0 J_{v y} m_{w} r^{2} + 4.0 J_{w y} L^{2} m_{v} - 2.0 L^{2} m_{v}^{2} r^{2} \\cos^{2}{\\left(\\theta_{v y t} \\right)} + 2.0 L^{2} m_{v}^{2} r^{2} + 4.0 L^{2} m_{v} m_{w} r^{2}} + \\frac{2.0 J_{v y} T_{\\theta t} r}{4.0 J_{v y} J_{w y} + 2.0 J_{v y} m_{v} r^{2} + 4.0 J_{v y} m_{w} r^{2} + 4.0 J_{w y} L^{2} m_{v} - 2.0 L^{2} m_{v}^{2} r^{2} \\cos^{2}{\\left(\\theta_{v y t} \\right)} + 2.0 L^{2} m_{v}^{2} r^{2} + 4.0 L^{2} m_{v} m_{w} r^{2}} + \\frac{2.0 L^{2} T_{\\theta t} m_{v} r}{4.0 J_{v y} J_{w y} + 2.0 J_{v y} m_{v} r^{2} + 4.0 J_{v y} m_{w} r^{2} + 4.0 J_{w y} L^{2} m_{v} - 2.0 L^{2} m_{v}^{2} r^{2} \\cos^{2}{\\left(\\theta_{v y t} \\right)} + 2.0 L^{2} m_{v}^{2} r^{2} + 4.0 L^{2} m_{v} m_{w} r^{2}} - \\frac{2.0 L^{2} g m_{v}^{2} r^{2} \\sin{\\left(\\theta_{v y t} \\right)} \\cos{\\left(\\theta_{v y t} \\right)}}{4.0 J_{v y} J_{w y} + 2.0 J_{v y} m_{v} r^{2} + 4.0 J_{v y} m_{w} r^{2} + 4.0 J_{w y} L^{2} m_{v} - 2.0 L^{2} m_{v}^{2} r^{2} \\cos^{2}{\\left(\\theta_{v y t} \\right)} + 2.0 L^{2} m_{v}^{2} r^{2} + 4.0 L^{2} m_{v} m_{w} r^{2}} + \\frac{2.0 L T_{\\theta t} m_{v} r^{2} \\cos{\\left(\\theta_{v y t} \\right)}}{4.0 J_{v y} J_{w y} + 2.0 J_{v y} m_{v} r^{2} + 4.0 J_{v y} m_{w} r^{2} + 4.0 J_{w y} L^{2} m_{v} - 2.0 L^{2} m_{v}^{2} r^{2} \\cos^{2}{\\left(\\theta_{v y t} \\right)} + 2.0 L^{2} m_{v}^{2} r^{2} + 4.0 L^{2} m_{v} m_{w} r^{2}}\\\\D_{\\theta v y t}\\\\\\frac{2.0 D_{\\psi v z t}^{2} J_{v x} J_{w y} \\sin{\\left(2.0 \\theta_{v y t} \\right)}}{4.0 J_{v y} J_{w y} + 2.0 J_{v y} m_{v} r^{2} + 4.0 J_{v y} m_{w} r^{2} + 4.0 J_{w y} L^{2} m_{v} - 2.0 L^{2} m_{v}^{2} r^{2} \\cos^{2}{\\left(\\theta_{v y t} \\right)} + 2.0 L^{2} m_{v}^{2} r^{2} + 4.0 L^{2} m_{v} m_{w} r^{2}} + \\frac{D_{\\psi v z t}^{2} J_{v x} m_{v} r^{2} \\sin{\\left(2.0 \\theta_{v y t} \\right)}}{4.0 J_{v y} J_{w y} + 2.0 J_{v y} m_{v} r^{2} + 4.0 J_{v y} m_{w} r^{2} + 4.0 J_{w y} L^{2} m_{v} - 2.0 L^{2} m_{v}^{2} r^{2} \\cos^{2}{\\left(\\theta_{v y t} \\right)} + 2.0 L^{2} m_{v}^{2} r^{2} + 4.0 L^{2} m_{v} m_{w} r^{2}} + \\frac{2.0 D_{\\psi v z t}^{2} J_{v x} m_{w} r^{2} \\sin{\\left(2.0 \\theta_{v y t} \\right)}}{4.0 J_{v y} J_{w y} + 2.0 J_{v y} m_{v} r^{2} + 4.0 J_{v y} m_{w} r^{2} + 4.0 J_{w y} L^{2} m_{v} - 2.0 L^{2} m_{v}^{2} r^{2} \\cos^{2}{\\left(\\theta_{v y t} \\right)} + 2.0 L^{2} m_{v}^{2} r^{2} + 4.0 L^{2} m_{v} m_{w} r^{2}} - \\frac{2.0 D_{\\psi v z t}^{2} J_{v z} J_{w y} \\sin{\\left(2.0 \\theta_{v y t} \\right)}}{4.0 J_{v y} J_{w y} + 2.0 J_{v y} m_{v} r^{2} + 4.0 J_{v y} m_{w} r^{2} + 4.0 J_{w y} L^{2} m_{v} - 2.0 L^{2} m_{v}^{2} r^{2} \\cos^{2}{\\left(\\theta_{v y t} \\right)} + 2.0 L^{2} m_{v}^{2} r^{2} + 4.0 L^{2} m_{v} m_{w} r^{2}} - \\frac{D_{\\psi v z t}^{2} J_{v z} m_{v} r^{2} \\sin{\\left(2.0 \\theta_{v y t} \\right)}}{4.0 J_{v y} J_{w y} + 2.0 J_{v y} m_{v} r^{2} + 4.0 J_{v y} m_{w} r^{2} + 4.0 J_{w y} L^{2} m_{v} - 2.0 L^{2} m_{v}^{2} r^{2} \\cos^{2}{\\left(\\theta_{v y t} \\right)} + 2.0 L^{2} m_{v}^{2} r^{2} + 4.0 L^{2} m_{v} m_{w} r^{2}} - \\frac{2.0 D_{\\psi v z t}^{2} J_{v z} m_{w} r^{2} \\sin{\\left(2.0 \\theta_{v y t} \\right)}}{4.0 J_{v y} J_{w y} + 2.0 J_{v y} m_{v} r^{2} + 4.0 J_{v y} m_{w} r^{2} + 4.0 J_{w y} L^{2} m_{v} - 2.0 L^{2} m_{v}^{2} r^{2} \\cos^{2}{\\left(\\theta_{v y t} \\right)} + 2.0 L^{2} m_{v}^{2} r^{2} + 4.0 L^{2} m_{v} m_{w} r^{2}} + \\frac{2.0 D_{\\psi v z t}^{2} J_{w y} L^{2} m_{v} \\sin{\\left(2.0 \\theta_{v y t} \\right)}}{4.0 J_{v y} J_{w y} + 2.0 J_{v y} m_{v} r^{2} + 4.0 J_{v y} m_{w} r^{2} + 4.0 J_{w y} L^{2} m_{v} - 2.0 L^{2} m_{v}^{2} r^{2} \\cos^{2}{\\left(\\theta_{v y t} \\right)} + 2.0 L^{2} m_{v}^{2} r^{2} + 4.0 L^{2} m_{v} m_{w} r^{2}} + \\frac{D_{\\psi v z t}^{2} L^{2} m_{v}^{2} r^{2} \\sin{\\left(2.0 \\theta_{v y t} \\right)}}{4.0 J_{v y} J_{w y} + 2.0 J_{v y} m_{v} r^{2} + 4.0 J_{v y} m_{w} r^{2} + 4.0 J_{w y} L^{2} m_{v} - 2.0 L^{2} m_{v}^{2} r^{2} \\cos^{2}{\\left(\\theta_{v y t} \\right)} + 2.0 L^{2} m_{v}^{2} r^{2} + 4.0 L^{2} m_{v} m_{w} r^{2}} + \\frac{2.0 D_{\\psi v z t}^{2} L^{2} m_{v} m_{w} r^{2} \\sin{\\left(2.0 \\theta_{v y t} \\right)}}{4.0 J_{v y} J_{w y} + 2.0 J_{v y} m_{v} r^{2} + 4.0 J_{v y} m_{w} r^{2} + 4.0 J_{w y} L^{2} m_{v} - 2.0 L^{2} m_{v}^{2} r^{2} \\cos^{2}{\\left(\\theta_{v y t} \\right)} + 2.0 L^{2} m_{v}^{2} r^{2} + 4.0 L^{2} m_{v} m_{w} r^{2}} - \\frac{2.0 D_{\\theta v y t}^{2} L^{2} m_{v}^{2} r^{2} \\sin{\\left(\\theta_{v y t} \\right)} \\cos{\\left(\\theta_{v y t} \\right)}}{4.0 J_{v y} J_{w y} + 2.0 J_{v y} m_{v} r^{2} + 4.0 J_{v y} m_{w} r^{2} + 4.0 J_{w y} L^{2} m_{v} - 2.0 L^{2} m_{v}^{2} r^{2} \\cos^{2}{\\left(\\theta_{v y t} \\right)} + 2.0 L^{2} m_{v}^{2} r^{2} + 4.0 L^{2} m_{v} m_{w} r^{2}} + \\frac{4.0 J_{w y} L g m_{v} \\sin{\\left(\\theta_{v y t} \\right)}}{4.0 J_{v y} J_{w y} + 2.0 J_{v y} m_{v} r^{2} + 4.0 J_{v y} m_{w} r^{2} + 4.0 J_{w y} L^{2} m_{v} - 2.0 L^{2} m_{v}^{2} r^{2} \\cos^{2}{\\left(\\theta_{v y t} \\right)} + 2.0 L^{2} m_{v}^{2} r^{2} + 4.0 L^{2} m_{v} m_{w} r^{2}} - \\frac{4.0 J_{w y} T_{\\theta t}}{4.0 J_{v y} J_{w y} + 2.0 J_{v y} m_{v} r^{2} + 4.0 J_{v y} m_{w} r^{2} + 4.0 J_{w y} L^{2} m_{v} - 2.0 L^{2} m_{v}^{2} r^{2} \\cos^{2}{\\left(\\theta_{v y t} \\right)} + 2.0 L^{2} m_{v}^{2} r^{2} + 4.0 L^{2} m_{v} m_{w} r^{2}} - \\frac{2.0 L T_{\\theta t} m_{v} r \\cos{\\left(\\theta_{v y t} \\right)}}{4.0 J_{v y} J_{w y} + 2.0 J_{v y} m_{v} r^{2} + 4.0 J_{v y} m_{w} r^{2} + 4.0 J_{w y} L^{2} m_{v} - 2.0 L^{2} m_{v}^{2} r^{2} \\cos^{2}{\\left(\\theta_{v y t} \\right)} + 2.0 L^{2} m_{v}^{2} r^{2} + 4.0 L^{2} m_{v} m_{w} r^{2}} + \\frac{2.0 L g m_{v}^{2} r^{2} \\sin{\\left(\\theta_{v y t} \\right)}}{4.0 J_{v y} J_{w y} + 2.0 J_{v y} m_{v} r^{2} + 4.0 J_{v y} m_{w} r^{2} + 4.0 J_{w y} L^{2} m_{v} - 2.0 L^{2} m_{v}^{2} r^{2} \\cos^{2}{\\left(\\theta_{v y t} \\right)} + 2.0 L^{2} m_{v}^{2} r^{2} + 4.0 L^{2} m_{v} m_{w} r^{2}} + \\frac{4.0 L g m_{v} m_{w} r^{2} \\sin{\\left(\\theta_{v y t} \\right)}}{4.0 J_{v y} J_{w y} + 2.0 J_{v y} m_{v} r^{2} + 4.0 J_{v y} m_{w} r^{2} + 4.0 J_{w y} L^{2} m_{v} - 2.0 L^{2} m_{v}^{2} r^{2} \\cos^{2}{\\left(\\theta_{v y t} \\right)} + 2.0 L^{2} m_{v}^{2} r^{2} + 4.0 L^{2} m_{v} m_{w} r^{2}} - \\frac{2.0 T_{\\theta t} m_{v} r^{2}}{4.0 J_{v y} J_{w y} + 2.0 J_{v y} m_{v} r^{2} + 4.0 J_{v y} m_{w} r^{2} + 4.0 J_{w y} L^{2} m_{v} - 2.0 L^{2} m_{v}^{2} r^{2} \\cos^{2}{\\left(\\theta_{v y t} \\right)} + 2.0 L^{2} m_{v}^{2} r^{2} + 4.0 L^{2} m_{v} m_{w} r^{2}} - \\frac{4.0 T_{\\theta t} m_{w} r^{2}}{4.0 J_{v y} J_{w y} + 2.0 J_{v y} m_{v} r^{2} + 4.0 J_{v y} m_{w} r^{2} + 4.0 J_{w y} L^{2} m_{v} - 2.0 L^{2} m_{v}^{2} r^{2} \\cos^{2}{\\left(\\theta_{v y t} \\right)} + 2.0 L^{2} m_{v}^{2} r^{2} + 4.0 L^{2} m_{v} m_{w} r^{2}}\\\\D_{\\psi v z t}\\\\\\frac{D T_{\\psi t} r}{D^{2} J_{w y} + D^{2} m_{w} r^{2} + 2.0 J_{v x} r^{2} \\sin^{2}{\\left(\\theta_{v y t} \\right)} - 2.0 J_{v z} r^{2} \\sin^{2}{\\left(\\theta_{v y t} \\right)} + 2.0 J_{v z} r^{2} + 4.0 J_{w xz} r^{2} + 2.0 L^{2} m_{v} r^{2} \\sin^{2}{\\left(\\theta_{v y t} \\right)}} - \\frac{2.0 D_{\\psi v z t} D_{\\theta v y t} J_{v x} r^{2} \\sin{\\left(2.0 \\theta_{v y t} \\right)}}{D^{2} J_{w y} + D^{2} m_{w} r^{2} + 2.0 J_{v x} r^{2} \\sin^{2}{\\left(\\theta_{v y t} \\right)} - 2.0 J_{v z} r^{2} \\sin^{2}{\\left(\\theta_{v y t} \\right)} + 2.0 J_{v z} r^{2} + 4.0 J_{w xz} r^{2} + 2.0 L^{2} m_{v} r^{2} \\sin^{2}{\\left(\\theta_{v y t} \\right)}} + \\frac{2.0 D_{\\psi v z t} D_{\\theta v y t} J_{v z} r^{2} \\sin{\\left(2.0 \\theta_{v y t} \\right)}}{D^{2} J_{w y} + D^{2} m_{w} r^{2} + 2.0 J_{v x} r^{2} \\sin^{2}{\\left(\\theta_{v y t} \\right)} - 2.0 J_{v z} r^{2} \\sin^{2}{\\left(\\theta_{v y t} \\right)} + 2.0 J_{v z} r^{2} + 4.0 J_{w xz} r^{2} + 2.0 L^{2} m_{v} r^{2} \\sin^{2}{\\left(\\theta_{v y t} \\right)}} - \\frac{2.0 D_{\\psi v z t} D_{\\theta v y t} L^{2} m_{v} r^{2} \\sin{\\left(2.0 \\theta_{v y t} \\right)}}{D^{2} J_{w y} + D^{2} m_{w} r^{2} + 2.0 J_{v x} r^{2} \\sin^{2}{\\left(\\theta_{v y t} \\right)} - 2.0 J_{v z} r^{2} \\sin^{2}{\\left(\\theta_{v y t} \\right)} + 2.0 J_{v z} r^{2} + 4.0 J_{w xz} r^{2} + 2.0 L^{2} m_{v} r^{2} \\sin^{2}{\\left(\\theta_{v y t} \\right)}}\\end{matrix}\\right]$"
      ],
      "text/plain": [
       "Matrix([\n",
       "[                                                                                                                                                                                                                                                                                                                                                                                                                                                                                                                                                                                                                                                                                                                                                                                                                                                                                                                                                                                                                                                                                                                                                                                                                                                                                                                                                                                                                                                                                                                                                                                                                                                                                                                                                                                                                                                                                                                                                                                                                                                                                                                                                                                                                                                                                                                                                                                                                                                                                                                                                                                                                                                                                                                                                                                                                                                                                                                                                                                                                                                                                                                                                                                                                                                                                                                                                                                                                                                                                                                                                                                                                                                                                                                                                                                                                                                    v_v_x_t],\n",
       "[                                                                                                                                                                                                                                                                                                                                                                                                                                                                                                                                                                                                                                                                                                                                                                                                                                                                                                                                                                                                                                                                                                                                                                                                                                                                                                                                                                                                                                                                                                                                                                                                                                                                                                                                                      -D_psi_v_z_t**2*J_v_x*L*m_v*r**2*sin(2.0*theta_v_y_t)*cos(theta_v_y_t)/(4.0*J_v_y*J_w_y + 2.0*J_v_y*m_v*r**2 + 4.0*J_v_y*m_w*r**2 + 4.0*J_w_y*L**2*m_v - 2.0*L**2*m_v**2*r**2*cos(theta_v_y_t)**2 + 2.0*L**2*m_v**2*r**2 + 4.0*L**2*m_v*m_w*r**2) + D_psi_v_z_t**2*J_v_z*L*m_v*r**2*sin(2.0*theta_v_y_t)*cos(theta_v_y_t)/(4.0*J_v_y*J_w_y + 2.0*J_v_y*m_v*r**2 + 4.0*J_v_y*m_w*r**2 + 4.0*J_w_y*L**2*m_v - 2.0*L**2*m_v**2*r**2*cos(theta_v_y_t)**2 + 2.0*L**2*m_v**2*r**2 + 4.0*L**2*m_v*m_w*r**2) - D_psi_v_z_t**2*L**3*m_v**2*r**2*sin(2.0*theta_v_y_t)*cos(theta_v_y_t)/(4.0*J_v_y*J_w_y + 2.0*J_v_y*m_v*r**2 + 4.0*J_v_y*m_w*r**2 + 4.0*J_w_y*L**2*m_v - 2.0*L**2*m_v**2*r**2*cos(theta_v_y_t)**2 + 2.0*L**2*m_v**2*r**2 + 4.0*L**2*m_v*m_w*r**2) + 2.0*D_theta_v_y_t**2*J_v_y*L*m_v*r**2*sin(theta_v_y_t)/(4.0*J_v_y*J_w_y + 2.0*J_v_y*m_v*r**2 + 4.0*J_v_y*m_w*r**2 + 4.0*J_w_y*L**2*m_v - 2.0*L**2*m_v**2*r**2*cos(theta_v_y_t)**2 + 2.0*L**2*m_v**2*r**2 + 4.0*L**2*m_v*m_w*r**2) + 2.0*D_theta_v_y_t**2*L**3*m_v**2*r**2*sin(theta_v_y_t)/(4.0*J_v_y*J_w_y + 2.0*J_v_y*m_v*r**2 + 4.0*J_v_y*m_w*r**2 + 4.0*J_w_y*L**2*m_v - 2.0*L**2*m_v**2*r**2*cos(theta_v_y_t)**2 + 2.0*L**2*m_v**2*r**2 + 4.0*L**2*m_v*m_w*r**2) + 2.0*J_v_y*T_theta_t*r/(4.0*J_v_y*J_w_y + 2.0*J_v_y*m_v*r**2 + 4.0*J_v_y*m_w*r**2 + 4.0*J_w_y*L**2*m_v - 2.0*L**2*m_v**2*r**2*cos(theta_v_y_t)**2 + 2.0*L**2*m_v**2*r**2 + 4.0*L**2*m_v*m_w*r**2) + 2.0*L**2*T_theta_t*m_v*r/(4.0*J_v_y*J_w_y + 2.0*J_v_y*m_v*r**2 + 4.0*J_v_y*m_w*r**2 + 4.0*J_w_y*L**2*m_v - 2.0*L**2*m_v**2*r**2*cos(theta_v_y_t)**2 + 2.0*L**2*m_v**2*r**2 + 4.0*L**2*m_v*m_w*r**2) - 2.0*L**2*g*m_v**2*r**2*sin(theta_v_y_t)*cos(theta_v_y_t)/(4.0*J_v_y*J_w_y + 2.0*J_v_y*m_v*r**2 + 4.0*J_v_y*m_w*r**2 + 4.0*J_w_y*L**2*m_v - 2.0*L**2*m_v**2*r**2*cos(theta_v_y_t)**2 + 2.0*L**2*m_v**2*r**2 + 4.0*L**2*m_v*m_w*r**2) + 2.0*L*T_theta_t*m_v*r**2*cos(theta_v_y_t)/(4.0*J_v_y*J_w_y + 2.0*J_v_y*m_v*r**2 + 4.0*J_v_y*m_w*r**2 + 4.0*J_w_y*L**2*m_v - 2.0*L**2*m_v**2*r**2*cos(theta_v_y_t)**2 + 2.0*L**2*m_v**2*r**2 + 4.0*L**2*m_v*m_w*r**2)],\n",
       "[                                                                                                                                                                                                                                                                                                                                                                                                                                                                                                                                                                                                                                                                                                                                                                                                                                                                                                                                                                                                                                                                                                                                                                                                                                                                                                                                                                                                                                                                                                                                                                                                                                                                                                                                                                                                                                                                                                                                                                                                                                                                                                                                                                                                                                                                                                                                                                                                                                                                                                                                                                                                                                                                                                                                                                                                                                                                                                                                                                                                                                                                                                                                                                                                                                                                                                                                                                                                                                                                                                                                                                                                                                                                                                                                                                                                                                              D_theta_v_y_t],\n",
       "[2.0*D_psi_v_z_t**2*J_v_x*J_w_y*sin(2.0*theta_v_y_t)/(4.0*J_v_y*J_w_y + 2.0*J_v_y*m_v*r**2 + 4.0*J_v_y*m_w*r**2 + 4.0*J_w_y*L**2*m_v - 2.0*L**2*m_v**2*r**2*cos(theta_v_y_t)**2 + 2.0*L**2*m_v**2*r**2 + 4.0*L**2*m_v*m_w*r**2) + D_psi_v_z_t**2*J_v_x*m_v*r**2*sin(2.0*theta_v_y_t)/(4.0*J_v_y*J_w_y + 2.0*J_v_y*m_v*r**2 + 4.0*J_v_y*m_w*r**2 + 4.0*J_w_y*L**2*m_v - 2.0*L**2*m_v**2*r**2*cos(theta_v_y_t)**2 + 2.0*L**2*m_v**2*r**2 + 4.0*L**2*m_v*m_w*r**2) + 2.0*D_psi_v_z_t**2*J_v_x*m_w*r**2*sin(2.0*theta_v_y_t)/(4.0*J_v_y*J_w_y + 2.0*J_v_y*m_v*r**2 + 4.0*J_v_y*m_w*r**2 + 4.0*J_w_y*L**2*m_v - 2.0*L**2*m_v**2*r**2*cos(theta_v_y_t)**2 + 2.0*L**2*m_v**2*r**2 + 4.0*L**2*m_v*m_w*r**2) - 2.0*D_psi_v_z_t**2*J_v_z*J_w_y*sin(2.0*theta_v_y_t)/(4.0*J_v_y*J_w_y + 2.0*J_v_y*m_v*r**2 + 4.0*J_v_y*m_w*r**2 + 4.0*J_w_y*L**2*m_v - 2.0*L**2*m_v**2*r**2*cos(theta_v_y_t)**2 + 2.0*L**2*m_v**2*r**2 + 4.0*L**2*m_v*m_w*r**2) - D_psi_v_z_t**2*J_v_z*m_v*r**2*sin(2.0*theta_v_y_t)/(4.0*J_v_y*J_w_y + 2.0*J_v_y*m_v*r**2 + 4.0*J_v_y*m_w*r**2 + 4.0*J_w_y*L**2*m_v - 2.0*L**2*m_v**2*r**2*cos(theta_v_y_t)**2 + 2.0*L**2*m_v**2*r**2 + 4.0*L**2*m_v*m_w*r**2) - 2.0*D_psi_v_z_t**2*J_v_z*m_w*r**2*sin(2.0*theta_v_y_t)/(4.0*J_v_y*J_w_y + 2.0*J_v_y*m_v*r**2 + 4.0*J_v_y*m_w*r**2 + 4.0*J_w_y*L**2*m_v - 2.0*L**2*m_v**2*r**2*cos(theta_v_y_t)**2 + 2.0*L**2*m_v**2*r**2 + 4.0*L**2*m_v*m_w*r**2) + 2.0*D_psi_v_z_t**2*J_w_y*L**2*m_v*sin(2.0*theta_v_y_t)/(4.0*J_v_y*J_w_y + 2.0*J_v_y*m_v*r**2 + 4.0*J_v_y*m_w*r**2 + 4.0*J_w_y*L**2*m_v - 2.0*L**2*m_v**2*r**2*cos(theta_v_y_t)**2 + 2.0*L**2*m_v**2*r**2 + 4.0*L**2*m_v*m_w*r**2) + D_psi_v_z_t**2*L**2*m_v**2*r**2*sin(2.0*theta_v_y_t)/(4.0*J_v_y*J_w_y + 2.0*J_v_y*m_v*r**2 + 4.0*J_v_y*m_w*r**2 + 4.0*J_w_y*L**2*m_v - 2.0*L**2*m_v**2*r**2*cos(theta_v_y_t)**2 + 2.0*L**2*m_v**2*r**2 + 4.0*L**2*m_v*m_w*r**2) + 2.0*D_psi_v_z_t**2*L**2*m_v*m_w*r**2*sin(2.0*theta_v_y_t)/(4.0*J_v_y*J_w_y + 2.0*J_v_y*m_v*r**2 + 4.0*J_v_y*m_w*r**2 + 4.0*J_w_y*L**2*m_v - 2.0*L**2*m_v**2*r**2*cos(theta_v_y_t)**2 + 2.0*L**2*m_v**2*r**2 + 4.0*L**2*m_v*m_w*r**2) - 2.0*D_theta_v_y_t**2*L**2*m_v**2*r**2*sin(theta_v_y_t)*cos(theta_v_y_t)/(4.0*J_v_y*J_w_y + 2.0*J_v_y*m_v*r**2 + 4.0*J_v_y*m_w*r**2 + 4.0*J_w_y*L**2*m_v - 2.0*L**2*m_v**2*r**2*cos(theta_v_y_t)**2 + 2.0*L**2*m_v**2*r**2 + 4.0*L**2*m_v*m_w*r**2) + 4.0*J_w_y*L*g*m_v*sin(theta_v_y_t)/(4.0*J_v_y*J_w_y + 2.0*J_v_y*m_v*r**2 + 4.0*J_v_y*m_w*r**2 + 4.0*J_w_y*L**2*m_v - 2.0*L**2*m_v**2*r**2*cos(theta_v_y_t)**2 + 2.0*L**2*m_v**2*r**2 + 4.0*L**2*m_v*m_w*r**2) - 4.0*J_w_y*T_theta_t/(4.0*J_v_y*J_w_y + 2.0*J_v_y*m_v*r**2 + 4.0*J_v_y*m_w*r**2 + 4.0*J_w_y*L**2*m_v - 2.0*L**2*m_v**2*r**2*cos(theta_v_y_t)**2 + 2.0*L**2*m_v**2*r**2 + 4.0*L**2*m_v*m_w*r**2) - 2.0*L*T_theta_t*m_v*r*cos(theta_v_y_t)/(4.0*J_v_y*J_w_y + 2.0*J_v_y*m_v*r**2 + 4.0*J_v_y*m_w*r**2 + 4.0*J_w_y*L**2*m_v - 2.0*L**2*m_v**2*r**2*cos(theta_v_y_t)**2 + 2.0*L**2*m_v**2*r**2 + 4.0*L**2*m_v*m_w*r**2) + 2.0*L*g*m_v**2*r**2*sin(theta_v_y_t)/(4.0*J_v_y*J_w_y + 2.0*J_v_y*m_v*r**2 + 4.0*J_v_y*m_w*r**2 + 4.0*J_w_y*L**2*m_v - 2.0*L**2*m_v**2*r**2*cos(theta_v_y_t)**2 + 2.0*L**2*m_v**2*r**2 + 4.0*L**2*m_v*m_w*r**2) + 4.0*L*g*m_v*m_w*r**2*sin(theta_v_y_t)/(4.0*J_v_y*J_w_y + 2.0*J_v_y*m_v*r**2 + 4.0*J_v_y*m_w*r**2 + 4.0*J_w_y*L**2*m_v - 2.0*L**2*m_v**2*r**2*cos(theta_v_y_t)**2 + 2.0*L**2*m_v**2*r**2 + 4.0*L**2*m_v*m_w*r**2) - 2.0*T_theta_t*m_v*r**2/(4.0*J_v_y*J_w_y + 2.0*J_v_y*m_v*r**2 + 4.0*J_v_y*m_w*r**2 + 4.0*J_w_y*L**2*m_v - 2.0*L**2*m_v**2*r**2*cos(theta_v_y_t)**2 + 2.0*L**2*m_v**2*r**2 + 4.0*L**2*m_v*m_w*r**2) - 4.0*T_theta_t*m_w*r**2/(4.0*J_v_y*J_w_y + 2.0*J_v_y*m_v*r**2 + 4.0*J_v_y*m_w*r**2 + 4.0*J_w_y*L**2*m_v - 2.0*L**2*m_v**2*r**2*cos(theta_v_y_t)**2 + 2.0*L**2*m_v**2*r**2 + 4.0*L**2*m_v*m_w*r**2)],\n",
       "[                                                                                                                                                                                                                                                                                                                                                                                                                                                                                                                                                                                                                                                                                                                                                                                                                                                                                                                                                                                                                                                                                                                                                                                                                                                                                                                                                                                                                                                                                                                                                                                                                                                                                                                                                                                                                                                                                                                                                                                                                                                                                                                                                                                                                                                                                                                                                                                                                                                                                                                                                                                                                                                                                                                                                                                                                                                                                                                                                                                                                                                                                                                                                                                                                                                                                                                                                                                                                                                                                                                                                                                                                                                                                                                                                                                                                                                D_psi_v_z_t],\n",
       "[                                                                                                                                                                                                                                                                                                                                                                                                                                                                                                                                                                                                                                                                                                                                                                                                                                                                                                                                                                                                                                                                                                                                                                                                                                                                                                                                                                                                                                                                                                                                                                                                                                                                                                                                                                                                                                                                                                                                                                                                                                                                                                                                                                                                                                                                                                                                                                                                                                                                                                                                                                                                                                                                                                                                                                                                                                                                                                     D*T_psi_t*r/(D**2*J_w_y + D**2*m_w*r**2 + 2.0*J_v_x*r**2*sin(theta_v_y_t)**2 - 2.0*J_v_z*r**2*sin(theta_v_y_t)**2 + 2.0*J_v_z*r**2 + 4.0*J_w_xz*r**2 + 2.0*L**2*m_v*r**2*sin(theta_v_y_t)**2) - 2.0*D_psi_v_z_t*D_theta_v_y_t*J_v_x*r**2*sin(2.0*theta_v_y_t)/(D**2*J_w_y + D**2*m_w*r**2 + 2.0*J_v_x*r**2*sin(theta_v_y_t)**2 - 2.0*J_v_z*r**2*sin(theta_v_y_t)**2 + 2.0*J_v_z*r**2 + 4.0*J_w_xz*r**2 + 2.0*L**2*m_v*r**2*sin(theta_v_y_t)**2) + 2.0*D_psi_v_z_t*D_theta_v_y_t*J_v_z*r**2*sin(2.0*theta_v_y_t)/(D**2*J_w_y + D**2*m_w*r**2 + 2.0*J_v_x*r**2*sin(theta_v_y_t)**2 - 2.0*J_v_z*r**2*sin(theta_v_y_t)**2 + 2.0*J_v_z*r**2 + 4.0*J_w_xz*r**2 + 2.0*L**2*m_v*r**2*sin(theta_v_y_t)**2) - 2.0*D_psi_v_z_t*D_theta_v_y_t*L**2*m_v*r**2*sin(2.0*theta_v_y_t)/(D**2*J_w_y + D**2*m_w*r**2 + 2.0*J_v_x*r**2*sin(theta_v_y_t)**2 - 2.0*J_v_z*r**2*sin(theta_v_y_t)**2 + 2.0*J_v_z*r**2 + 4.0*J_w_xz*r**2 + 2.0*L**2*m_v*r**2*sin(theta_v_y_t)**2)]])"
      ]
     },
     "metadata": {},
     "output_type": "display_data"
    },
    {
     "name": "stdout",
     "output_type": "stream",
     "text": [
      "After substitute of parameters : \n"
     ]
    },
    {
     "data": {
      "text/latex": [
       "$\\displaystyle \\left[\\begin{matrix}v_{v x t}\\\\- \\frac{1.582446110859 \\cdot 10^{-5} D_{\\psi v z t}^{2} \\sin{\\left(2.0 \\theta_{v y t} \\right)} \\cos{\\left(\\theta_{v y t} \\right)}}{0.00032887640475 - 0.00015107739138 \\cos^{2}{\\left(\\theta_{v y t} \\right)}} + \\frac{3.447272558718 \\cdot 10^{-5} D_{\\theta v y t}^{2} \\sin{\\left(\\theta_{v y t} \\right)}}{0.00032887640475 - 0.00015107739138 \\cos^{2}{\\left(\\theta_{v y t} \\right)}} + \\frac{0.000782217 T_{\\theta t} \\cos{\\left(\\theta_{v y t} \\right)}}{0.00032887640475 - 0.00015107739138 \\cos^{2}{\\left(\\theta_{v y t} \\right)}} + \\frac{0.0039663486 T_{\\theta t}}{0.00032887640475 - 0.00015107739138 \\cos^{2}{\\left(\\theta_{v y t} \\right)}} - \\frac{0.0014820692094378 \\sin{\\left(\\theta_{v y t} \\right)} \\cos{\\left(\\theta_{v y t} \\right)}}{0.00032887640475 - 0.00015107739138 \\cos^{2}{\\left(\\theta_{v y t} \\right)}}\\\\D_{\\theta v y t}\\\\\\frac{0.000150968389875 D_{\\psi v z t}^{2} \\sin{\\left(2.0 \\theta_{v y t} \\right)}}{0.00032887640475 - 0.00015107739138 \\cos^{2}{\\left(\\theta_{v y t} \\right)}} - \\frac{0.00015107739138 D_{\\theta v y t}^{2} \\sin{\\left(\\theta_{v y t} \\right)} \\cos{\\left(\\theta_{v y t} \\right)}}{0.00032887640475 - 0.00015107739138 \\cos^{2}{\\left(\\theta_{v y t} \\right)}} - \\frac{0.0173826 T_{\\theta t} \\cos{\\left(\\theta_{v y t} \\right)}}{0.00032887640475 - 0.00015107739138 \\cos^{2}{\\left(\\theta_{v y t} \\right)}} - \\frac{0.0074625 T_{\\theta t}}{0.00032887640475 - 0.00015107739138 \\cos^{2}{\\left(\\theta_{v y t} \\right)}} + \\frac{0.0141392241225 \\sin{\\left(\\theta_{v y t} \\right)}}{0.00032887640475 - 0.00015107739138 \\cos^{2}{\\left(\\theta_{v y t} \\right)}}\\\\D_{\\psi v z t}\\\\- \\frac{0.000163865187 D_{\\psi v z t} D_{\\theta v y t} \\sin{\\left(2.0 \\theta_{v y t} \\right)}}{0.000163865187 \\sin^{2}{\\left(\\theta_{v y t} \\right)} + 3.7270246875 \\cdot 10^{-5}} + \\frac{0.011025 T_{\\psi t}}{0.000163865187 \\sin^{2}{\\left(\\theta_{v y t} \\right)} + 3.7270246875 \\cdot 10^{-5}}\\end{matrix}\\right]$"
      ],
      "text/plain": [
       "Matrix([\n",
       "[                                                                                                                                                                                                                                                                                                                                                                                                                                                                                                                                                 v_v_x_t],\n",
       "[-1.582446110859e-5*D_psi_v_z_t**2*sin(2.0*theta_v_y_t)*cos(theta_v_y_t)/(0.00032887640475 - 0.00015107739138*cos(theta_v_y_t)**2) + 3.447272558718e-5*D_theta_v_y_t**2*sin(theta_v_y_t)/(0.00032887640475 - 0.00015107739138*cos(theta_v_y_t)**2) + 0.000782217*T_theta_t*cos(theta_v_y_t)/(0.00032887640475 - 0.00015107739138*cos(theta_v_y_t)**2) + 0.0039663486*T_theta_t/(0.00032887640475 - 0.00015107739138*cos(theta_v_y_t)**2) - 0.0014820692094378*sin(theta_v_y_t)*cos(theta_v_y_t)/(0.00032887640475 - 0.00015107739138*cos(theta_v_y_t)**2)],\n",
       "[                                                                                                                                                                                                                                                                                                                                                                                                                                                                                                                                           D_theta_v_y_t],\n",
       "[                           0.000150968389875*D_psi_v_z_t**2*sin(2.0*theta_v_y_t)/(0.00032887640475 - 0.00015107739138*cos(theta_v_y_t)**2) - 0.00015107739138*D_theta_v_y_t**2*sin(theta_v_y_t)*cos(theta_v_y_t)/(0.00032887640475 - 0.00015107739138*cos(theta_v_y_t)**2) - 0.0173826*T_theta_t*cos(theta_v_y_t)/(0.00032887640475 - 0.00015107739138*cos(theta_v_y_t)**2) - 0.0074625*T_theta_t/(0.00032887640475 - 0.00015107739138*cos(theta_v_y_t)**2) + 0.0141392241225*sin(theta_v_y_t)/(0.00032887640475 - 0.00015107739138*cos(theta_v_y_t)**2)],\n",
       "[                                                                                                                                                                                                                                                                                                                                                                                                                                                                                                                                             D_psi_v_z_t],\n",
       "[                                                                                                                                                                                                                                                                                                                                                         -0.000163865187*D_psi_v_z_t*D_theta_v_y_t*sin(2.0*theta_v_y_t)/(0.000163865187*sin(theta_v_y_t)**2 + 3.7270246875e-5) + 0.011025*T_psi_t/(0.000163865187*sin(theta_v_y_t)**2 + 3.7270246875e-5)]])"
      ]
     },
     "metadata": {},
     "output_type": "display_data"
    },
    {
     "name": "stdout",
     "output_type": "stream",
     "text": [
      "Linear model matrixes A,B after linarization : \n"
     ]
    },
    {
     "data": {
      "text/latex": [
       "$\\displaystyle \\left[\\begin{matrix}0 & 1 & 0 & 0 & 0 & 0\\\\0 & 0 & - \\frac{2.0 L^{2} g m_{v}^{2} r^{2}}{4.0 J_{v y} J_{w y} + 2.0 J_{v y} m_{v} r^{2} + 4.0 J_{v y} m_{w} r^{2} + 4.0 J_{w y} L^{2} m_{v} + 4.0 L^{2} m_{v} m_{w} r^{2}} & 0 & 0 & 0\\\\0 & 0 & 0 & 1 & 0 & 0\\\\0 & 0 & \\frac{L g m_{v} \\left(4.0 J_{w y} + 2.0 m_{v} r^{2} + 4.0 m_{w} r^{2}\\right)}{4.0 J_{v y} J_{w y} + 2.0 J_{v y} m_{v} r^{2} + 4.0 J_{v y} m_{w} r^{2} + 4.0 J_{w y} L^{2} m_{v} + 4.0 L^{2} m_{v} m_{w} r^{2}} & 0 & 0 & 0\\\\0 & 0 & 0 & 0 & 0 & 1\\\\0 & 0 & 0 & 0 & 0 & 0\\end{matrix}\\right]$"
      ],
      "text/plain": [
       "Matrix([\n",
       "[0, 1,                                                                                                                                                          0, 0, 0, 0],\n",
       "[0, 0,                           -2.0*L**2*g*m_v**2*r**2/(4.0*J_v_y*J_w_y + 2.0*J_v_y*m_v*r**2 + 4.0*J_v_y*m_w*r**2 + 4.0*J_w_y*L**2*m_v + 4.0*L**2*m_v*m_w*r**2), 0, 0, 0],\n",
       "[0, 0,                                                                                                                                                          0, 1, 0, 0],\n",
       "[0, 0, L*g*m_v*(4.0*J_w_y + 2.0*m_v*r**2 + 4.0*m_w*r**2)/(4.0*J_v_y*J_w_y + 2.0*J_v_y*m_v*r**2 + 4.0*J_v_y*m_w*r**2 + 4.0*J_w_y*L**2*m_v + 4.0*L**2*m_v*m_w*r**2), 0, 0, 0],\n",
       "[0, 0,                                                                                                                                                          0, 0, 0, 1],\n",
       "[0, 0,                                                                                                                                                          0, 0, 0, 0]])"
      ]
     },
     "metadata": {},
     "output_type": "display_data"
    },
    {
     "data": {
      "text/latex": [
       "$\\displaystyle \\left[\\begin{matrix}0 & 0\\\\\\frac{2.0 r \\left(J_{v y} + L^{2} m_{v} + L m_{v} r\\right)}{4.0 J_{v y} J_{w y} + 2.0 J_{v y} m_{v} r^{2} + 4.0 J_{v y} m_{w} r^{2} + 4.0 J_{w y} L^{2} m_{v} + 4.0 L^{2} m_{v} m_{w} r^{2}} & 0\\\\0 & 0\\\\\\frac{- 4.0 J_{w y} - 2.0 L m_{v} r - 2.0 m_{v} r^{2} - 4.0 m_{w} r^{2}}{4.0 J_{v y} J_{w y} + 2.0 J_{v y} m_{v} r^{2} + 4.0 J_{v y} m_{w} r^{2} + 4.0 J_{w y} L^{2} m_{v} + 4.0 L^{2} m_{v} m_{w} r^{2}} & 0\\\\0 & 0\\\\0 & \\frac{D r}{D^{2} J_{w y} + D^{2} m_{w} r^{2} + 2.0 J_{v z} r^{2} + 4.0 J_{w xz} r^{2}}\\end{matrix}\\right]$"
      ],
      "text/plain": [
       "Matrix([\n",
       "[                                                                                                                                                                0,                                                                   0],\n",
       "[                      2.0*r*(J_v_y + L**2*m_v + L*m_v*r)/(4.0*J_v_y*J_w_y + 2.0*J_v_y*m_v*r**2 + 4.0*J_v_y*m_w*r**2 + 4.0*J_w_y*L**2*m_v + 4.0*L**2*m_v*m_w*r**2),                                                                   0],\n",
       "[                                                                                                                                                                0,                                                                   0],\n",
       "[(-4.0*J_w_y - 2.0*L*m_v*r - 2.0*m_v*r**2 - 4.0*m_w*r**2)/(4.0*J_v_y*J_w_y + 2.0*J_v_y*m_v*r**2 + 4.0*J_v_y*m_w*r**2 + 4.0*J_w_y*L**2*m_v + 4.0*L**2*m_v*m_w*r**2),                                                                   0],\n",
       "[                                                                                                                                                                0,                                                                   0],\n",
       "[                                                                                                                                                                0, D*r/(D**2*J_w_y + D**2*m_w*r**2 + 2.0*J_v_z*r**2 + 4.0*J_w_xz*r**2)]])"
      ]
     },
     "metadata": {},
     "output_type": "display_data"
    },
    {
     "name": "stdout",
     "output_type": "stream",
     "text": [
      "Their values after substitute of parameters : \n"
     ]
    },
    {
     "data": {
      "text/plain": [
       "array([[ 0.        ,  1.        ,  0.        ,  0.        ,  0.        ,\n",
       "         0.        ],\n",
       "       [ 0.        ,  0.        , -8.33564361,  0.        ,  0.        ,\n",
       "         0.        ],\n",
       "       [ 0.        ,  0.        ,  0.        ,  1.        ,  0.        ,\n",
       "         0.        ],\n",
       "       [ 0.        ,  0.        , 79.52363657,  0.        ,  0.        ,\n",
       "         0.        ],\n",
       "       [ 0.        ,  0.        ,  0.        ,  0.        ,  0.        ,\n",
       "         1.        ],\n",
       "       [ 0.        ,  0.        ,  0.        ,  0.        ,  0.        ,\n",
       "         0.        ]])"
      ]
     },
     "metadata": {},
     "output_type": "display_data"
    },
    {
     "data": {
      "text/plain": [
       "array([[   0.        ,    0.        ],\n",
       "       [  26.70749128,    0.        ],\n",
       "       [   0.        ,    0.        ],\n",
       "       [-139.73699589,    0.        ],\n",
       "       [   0.        ,    0.        ],\n",
       "       [   0.        ,  295.81236843]])"
      ]
     },
     "metadata": {},
     "output_type": "display_data"
    }
   ],
   "source": [
    "\n",
    "f = sp.Matrix(\n",
    "    [v_v_x_t, D_v_v_x_f, D_theta_v_y_t, D2_theta_v_y_f, D_psi_v_z_t, D2_psi_v_z_f]\n",
    ")\n",
    "x = sp.Matrix([x_v_t, v_v_x_t, theta_v_y_t, D_theta_v_y_t, psi_v_z_t, D_psi_v_z_t])\n",
    "u = sp.Matrix([T_theta_t, T_psi_t])\n",
    "p = sp.Matrix([g, L, D, r, J_v_x, J_v_y, J_v_z, m_v, J_w_xz, J_w_y, m_w])\n",
    "\n",
    "param_subs = {\n",
    "    g: dict_with_params[\"g\"],\n",
    "    L: dict_with_params[\"L\"],\n",
    "    D: dict_with_params[\"D\"],\n",
    "    r: dict_with_params[\"r\"],\n",
    "    J_v_x: dict_with_params[\"J_v_x\"],\n",
    "    J_v_y: dict_with_params[\"J_v_y\"],\n",
    "    J_v_z: dict_with_params[\"J_v_z\"],\n",
    "    m_v: dict_with_params[\"m_v\"],\n",
    "    J_w_xz: dict_with_params[\"J_w_xz\"],\n",
    "    J_w_y: dict_with_params[\"J_w_y\"],\n",
    "    m_w: dict_with_params[\"m_w\"],\n",
    "}\n",
    "\n",
    "f_subs_param = f.subs(param_subs)\n",
    "\n",
    "\n",
    "\n",
    "folder_name = \"pkl_objects\"\n",
    "if not os.path.exists(folder_name):\n",
    "    os.makedirs(folder_name)\n",
    "\n",
    "\n",
    "file_name = \"function_dxdt.pkl\"\n",
    "file = open(folder_name + \"/\" + file_name, \"wb\")\n",
    "pickle.dump((f), file)\n",
    "file.close()\n",
    "\n",
    "# Calculating linear system as a Jacobian matrixes of non-linear system\n",
    "D_f_D_x = f.jacobian(x)\n",
    "D_f_D_u = f.jacobian(u)\n",
    "\n",
    "A_s = D_f_D_x.subs(\n",
    "    [\n",
    "        (x_v_t, 0),\n",
    "        (v_v_x_t, 0),\n",
    "        (theta_v_y_t, 0),\n",
    "        (D_theta_v_y_t, 0),\n",
    "        (psi_v_z_t, 0),\n",
    "        (D_psi_v_z_t, 0),\n",
    "        (T_theta_t, 0),\n",
    "        (T_psi_t, 0),\n",
    "    ]\n",
    ")\n",
    "B_s = D_f_D_u.subs(\n",
    "    [\n",
    "        (x_v_t, 0),\n",
    "        (v_v_x_t, 0),\n",
    "        (theta_v_y_t, 0),\n",
    "        (D_theta_v_y_t, 0),\n",
    "        (psi_v_z_t, 0),\n",
    "        (D_psi_v_z_t, 0),\n",
    "        (T_theta_t, 0),\n",
    "        (T_psi_t, 0),\n",
    "    ]\n",
    ")\n",
    "A_s = sp.simplify(A_s)\n",
    "B_s = sp.simplify(B_s)\n",
    "\n",
    "A_n = A_s.subs(param_subs)\n",
    "B_n = B_s.subs(param_subs)\n",
    "\n",
    "A = np.array(A_n).astype(np.float64)\n",
    "B = np.array(B_n).astype(np.float64)\n",
    "\n",
    "\n",
    "\n",
    "print('Nonlinear model dx/dt=f(x,u,p) : ')\n",
    "display(f)\n",
    "\n",
    "print('After substitute of parameters : ')\n",
    "display(f_subs_param)\n",
    "\n",
    "print('Linear model matrixes A,B after linarization : ')\n",
    "display(A_s)\n",
    "display(B_s)\n",
    "\n",
    "print('Their values after substitute of parameters : ')\n",
    "display(A)\n",
    "display(B)\n",
    "\n",
    "\n"
   ]
  }
 ],
 "metadata": {
  "kernelspec": {
   "display_name": "Python 3",
   "language": "python",
   "name": "python3"
  },
  "language_info": {
   "codemirror_mode": {
    "name": "ipython",
    "version": 3
   },
   "file_extension": ".py",
   "mimetype": "text/x-python",
   "name": "python",
   "nbconvert_exporter": "python",
   "pygments_lexer": "ipython3",
   "version": "3.12.5"
  }
 },
 "nbformat": 4,
 "nbformat_minor": 2
}
